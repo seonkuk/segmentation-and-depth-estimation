{
 "cells": [
  {
   "cell_type": "code",
   "execution_count": 1,
   "metadata": {
    "collapsed": true
   },
   "outputs": [],
   "source": [
    "import numpy as np\n",
    "import tensorflow as tf\n",
    "import math\n",
    "import cv2\n",
    "import matplotlib.pyplot as plt\n",
    "import time\n",
    "import random\n",
    "from pylab import legend\n",
    "from utils import *"
   ]
  },
  {
   "cell_type": "code",
   "execution_count": 2,
   "metadata": {},
   "outputs": [],
   "source": [
    "def seg_deconv(in_l,k_s,i_s,edge,edge_n,in_n,out_n,name,is_train):\n",
    "    w_edge_1,b_edge_1=make_wei(name+'_1',k_s,in_n+edge_n,in_n)\n",
    "    w_edge_2,b_edge_2=make_wei(name+'_2',k_s,in_n,in_n)\n",
    "    w_edge_3,b_edge_3=make_wei(name+'_3',k_s,in_n,out_n)\n",
    "\n",
    "    edge_1=tf.image.resize_images(in_l,[math.ceil(i_s),math.ceil(i_s)],method=tf.image.ResizeMethod.BILINEAR)\n",
    "    edge_2=tf.concat([edge,edge_1],3)\n",
    "    edge_3=n_relu(tf.nn.conv2d(edge_2,w_edge_1, strides=[1,1,1,1], padding= 'SAME')+b_edge_1)\n",
    "    edge_4=n_relu(tf.nn.conv2d(edge_3,w_edge_2, strides=[1,1,1,1], padding= 'SAME')+b_edge_2)\n",
    "    edge_5=n_relu(tf.nn.conv2d(edge_4,w_edge_3, strides=[1,1,1,1], padding= 'SAME')+b_edge_3)\n",
    "\n",
    "    return edge_5"
   ]
  },
  {
   "cell_type": "code",
   "execution_count": 3,
   "metadata": {},
   "outputs": [],
   "source": [
    "def dep_deconv(in_l,k_s,i_s,edge,edge_n,in_n,out_n,name,is_train):\n",
    "    w_edge_1,b_edge_1=make_wei(name+'_1',k_s,in_n+edge_n,in_n)\n",
    "    w_edge_2,b_edge_2=make_wei(name+'_2',k_s,in_n,in_n)\n",
    "    w_edge_3,b_edge_3=make_wei(name+'_3',k_s,in_n,out_n)\n",
    "\n",
    "    edge_1=tf.image.resize_images(in_l,[math.ceil(i_s),math.ceil(i_s)],method=tf.image.ResizeMethod.BILINEAR)\n",
    "    edge_2=tf.concat([edge,edge_1],3)\n",
    "    edge_3=bn_relu(tf.nn.conv2d(edge_2,w_edge_1, strides=[1,1,1,1], padding= 'SAME')+b_edge_1)\n",
    "    edge_4=bn_relu(tf.nn.conv2d(edge_3,w_edge_2, strides=[1,1,1,1], padding= 'SAME')+b_edge_2)\n",
    "    edge_5=bn_relu(tf.nn.conv2d(edge_4,w_edge_3, strides=[1,1,1,1], padding= 'SAME')+b_edge_3)\n",
    "\n",
    "    return edge_5"
   ]
  },
  {
   "cell_type": "code",
   "execution_count": 4,
   "metadata": {},
   "outputs": [],
   "source": [
    "def make_norm_at(in_layer,k_s,in_n,out_n,l_n,name,is_train):\n",
    "    for i in range(l_n):\n",
    "        if i==0:\n",
    "            w,b=make_wei(name+'_'+str(i+1),k_s,in_n,out_n)\n",
    "            in_layer_1=n_relu(tf.nn.atrous_conv2d(in_layer,w, rate=2, padding= 'SAME')+b)\n",
    "        else:\n",
    "            w,b=make_wei(name+'_'+str(i+1),k_s,out_n*2,out_n)\n",
    "            in_layer_1=n_relu(tf.nn.atrous_conv2d(in_layer_1,w, rate=2, padding= 'SAME')+b)\n",
    "    return in_layer_1"
   ]
  },
  {
   "cell_type": "code",
   "execution_count": 5,
   "metadata": {},
   "outputs": [],
   "source": [
    "def make_norm_conv(in_layer,k_s,in_n,out_n,l_n,name,is_train):\n",
    "    for i in range(l_n):\n",
    "        if i==0:\n",
    "            w,b=make_wei(name+'_'+str(i+1),k_s,in_n,out_n)\n",
    "            in_layer_1=n_relu(tf.nn.conv2d(in_layer,w, strides=[1,1,1,1], padding= 'SAME')+b)\n",
    "        else:\n",
    "            w,b=make_wei(name+'_'+str(i+1),k_s,out_n*2,out_n)\n",
    "            in_layer_1=n_relu(tf.nn.conv2d(in_layer_1,w, strides=[1,1,1,1], padding= 'SAME')+b)\n",
    "    return in_layer_1"
   ]
  },
  {
   "cell_type": "code",
   "execution_count": 6,
   "metadata": {},
   "outputs": [],
   "source": [
    "def make_dep_norm_conv(in_layer,k_s,in_n,out_n,l_n,name,is_train):\n",
    "    for i in range(l_n):\n",
    "        if i==0:\n",
    "            w,b=make_wei(name+'_'+str(i+1),k_s,in_n,out_n)\n",
    "            in_layer_1=d_norm_relu(tf.nn.conv2d(in_layer,w, strides=[1,1,1,1], padding= 'SAME')+b)\n",
    "        else:\n",
    "            w,b=make_wei(name+'_'+str(i+1),k_s,out_n*2,out_n)\n",
    "            in_layer_1=d_norm_relu(tf.nn.conv2d(in_layer_1,w, strides=[1,1,1,1], padding= 'SAME')+b)\n",
    "    return in_layer_1"
   ]
  },
  {
   "cell_type": "code",
   "execution_count": 7,
   "metadata": {},
   "outputs": [],
   "source": [
    "def make_conv(in_layer,k_s,in_n,out_n,l_n,name,is_train):\n",
    "    for i in range(l_n):\n",
    "        if i==0:\n",
    "            w,b=make_wei(name+'_'+str(i+1),k_s,in_n,out_n)\n",
    "            in_layer_1=relu(tf.nn.conv2d(in_layer,w, strides=[1,1,1,1], padding= 'SAME')+b)\n",
    "        else:\n",
    "            w,b=make_wei(name+'_'+str(i+1),k_s,out_n*2,out_n)\n",
    "            in_layer_1=relu(tf.nn.conv2d(in_layer_1,w, strides=[1,1,1,1], padding= 'SAME')+b)\n",
    "    return in_layer_1"
   ]
  },
  {
   "cell_type": "code",
   "execution_count": 8,
   "metadata": {},
   "outputs": [],
   "source": [
    "def relu(layer):  \n",
    "\n",
    "    return tf.concat([tf.nn.relu(layer),tf.nn.sigmoid(layer)],3)"
   ]
  },
  {
   "cell_type": "code",
   "execution_count": 9,
   "metadata": {},
   "outputs": [],
   "source": [
    "def n_relu(layer):  \n",
    "    mean,var=tf.nn.moments(layer,[1,2])\n",
    "    num=tf.to_int32(mean.shape[1])\n",
    "    mean_1=tf.reshape(mean,[-1,1,1,num])\n",
    "    var_1=tf.reshape(var,[-1,1,1,num])\n",
    "    layer_1=(layer-mean_1)/var_1\n",
    "    return tf.concat([tf.nn.relu(layer_1),tf.nn.sigmoid(layer_1)],3)"
   ]
  },
  {
   "cell_type": "code",
   "execution_count": 10,
   "metadata": {},
   "outputs": [],
   "source": [
    "def d_norm_relu(layer):  \n",
    "    mean,var=tf.nn.moments(layer,[1,2])\n",
    "    num=tf.to_int32(mean.shape[1])\n",
    "    mean_1=tf.reshape(mean,[-1,1,1,num])\n",
    "    var_1=tf.reshape(var,[-1,1,1,num])\n",
    "    layer_1=(layer-mean_1)/var_1\n",
    "    return tf.concat([tf.nn.sigmoid(layer_1),tf.nn.sigmoid((-1.0)*layer_1)],3)"
   ]
  },
  {
   "cell_type": "code",
   "execution_count": 11,
   "metadata": {},
   "outputs": [],
   "source": [
    "def norm_fc(layer):  \n",
    "    mean,var=tf.nn.moments(layer,[1])\n",
    "    mean_1=tf.reshape(mean,[-1,1])\n",
    "    var_1=tf.reshape(var,[-1,1])\n",
    "    layer_1=(layer-mean_1)/var_1\n",
    "    return layer_1"
   ]
  },
  {
   "cell_type": "code",
   "execution_count": 12,
   "metadata": {},
   "outputs": [],
   "source": [
    "def norm_relu(layer):  \n",
    "    mean,var=tf.nn.moments(layer,[1,2])\n",
    "    num=tf.to_int32(mean.shape[1])\n",
    "    mean_1=tf.reshape(mean,[-1,1,1,num])\n",
    "    var_1=tf.reshape(var,[-1,1,1,num])\n",
    "    layer_1=(layer-mean_1)/var_1\n",
    "    return layer_1"
   ]
  },
  {
   "cell_type": "code",
   "execution_count": 13,
   "metadata": {},
   "outputs": [],
   "source": [
    "def img_resize(img,s):\n",
    "    x=np.minimum(img.shape[0],img.shape[1])\n",
    "    re_img=img[img.shape[0]-x:img.shape[0],img.shape[1]-x:img.shape[1]]\n",
    "    im=cv2.resize(re_img, (s,s), interpolation=cv2.INTER_NEAREST)\n",
    "    return im"
   ]
  },
  {
   "cell_type": "code",
   "execution_count": 14,
   "metadata": {},
   "outputs": [],
   "source": [
    "def dep_resize(img,s):\n",
    "    x=np.minimum(img.shape[0],img.shape[1])\n",
    "    re_img=img[img.shape[0]-x:img.shape[0],img.shape[1]-x:img.shape[1]]\n",
    "    im=cv2.resize(re_img, (s,s), interpolation=cv2.INTER_LINEAR)\n",
    "    return im"
   ]
  },
  {
   "cell_type": "code",
   "execution_count": 15,
   "metadata": {},
   "outputs": [],
   "source": [
    "def make_fc(name,in_l_num,out_l_num,in_layer):\n",
    "    w= tf.get_variable('w_'+name, shape=[in_l_num,out_l_num], initializer=tf.contrib.layers.xavier_initializer())\n",
    "    b=tf.get_variable('b_'+name, shape=[out_l_num], initializer=tf.contrib.layers.xavier_initializer())\n",
    "    \n",
    "    return tf.matmul(in_layer,w)+b"
   ]
  },
  {
   "cell_type": "code",
   "execution_count": 16,
   "metadata": {},
   "outputs": [],
   "source": [
    "def get_crf(img,seg_img,dep_img,deri,num):\n",
    "    s_img=tf.square(tf.nn.atrous_conv2d(seg_img, deri,rate=num, padding='VALID'))\n",
    "    \n",
    "    im=tf.exp(-1*0.1*((7-num)/5)*tf.square(tf.nn.atrous_conv2d(img, deri,rate=num, padding='VALID')))\n",
    "    \n",
    "    s_i_crf=tf.multiply(s_img,im)\n",
    "    s_d_crf=tf.multiply((1-s_img),(1-im))\n",
    "    s_sum=(tf.reduce_mean(tf.reduce_sum(s_i_crf,1))*0.5)+(tf.reduce_mean(tf.reduce_sum(s_d_crf,1))*0.5)\n",
    "    \n",
    "    d_img=tf.exp(-1*0.1*((7-num)/5)*tf.square(tf.nn.atrous_conv2d(dep_img, deri,rate=num, padding='VALID')))\n",
    "    \n",
    "    d_i_crf=tf.multiply(s_img,d_img)\n",
    "    d_d_crf=tf.multiply((1-s_img),(1-d_img))\n",
    "    d_sum=(tf.reduce_mean(tf.reduce_sum(d_i_crf,1))*0.5)+(tf.reduce_mean(tf.reduce_sum(d_d_crf,1))*0.5)\n",
    "    \n",
    "    crf_sum=(s_sum*0.4)+(d_sum*0.6)\n",
    "    return crf_sum"
   ]
  },
  {
   "cell_type": "code",
   "execution_count": 17,
   "metadata": {},
   "outputs": [],
   "source": [
    "def seg_deri(seg_img,dep_img,img,ch,s_d_1,s_d_2,s_d_3,s_d_4):\n",
    "    s_deri_1 = tf.reshape(s_d_1, [3, 3, 1, 1])\n",
    "    s_deri_2 = tf.reshape(s_d_2, [3, 3, 1, 1])\n",
    "    s_deri_3 = tf.reshape(s_d_3, [3, 3, 1, 1])\n",
    "    s_deri_4 = tf.reshape(s_d_4, [3, 3, 1, 1])\n",
    "    seg_crf=0\n",
    "    \n",
    "    for n in range(ch):\n",
    "        seg_deri=tf.slice(seg_img,[0,0,0,n],[-1,-1,-1,1])\n",
    "        for i in range(2):\n",
    "            seg_crf_1=get_crf(img,seg_deri,dep_img,s_deri_1,i+1)\n",
    "            seg_crf_2=get_crf(img,seg_deri,dep_img,s_deri_2,i+1)\n",
    "            seg_crf_3=get_crf(img,seg_deri,dep_img,s_deri_3,i+1)\n",
    "            seg_crf_4=get_crf(img,seg_deri,dep_img,s_deri_4,i+1)\n",
    "            seg_crf+=(seg_crf_1+seg_crf_2+seg_crf_3+seg_crf_4)/4.0\n",
    "    return seg_crf/ch"
   ]
  },
  {
   "cell_type": "code",
   "execution_count": 18,
   "metadata": {},
   "outputs": [],
   "source": [
    "def seg_dep(seg_img,dep_img,seg_ch,dep_ch):\n",
    "    dep_1=tf.slice(dep_img,[0,0,0,0],[-1,-1,-1,1])\n",
    "    dep_2=tf.slice(dep_img,[0,0,0,1],[-1,-1,-1,1])\n",
    "    seg_dep_img=tf.concat([seg_img*dep_1,seg_img*dep_2],3)\n",
    "    return seg_dep_img"
   ]
  },
  {
   "cell_type": "code",
   "execution_count": 19,
   "metadata": {},
   "outputs": [],
   "source": [
    "# def seg_deri(seg_img,dep_img,img,ch):\n",
    "#     s_deri_1_1 = tf.reshape(seg_deri_1, [3, 3, 1, 1])\n",
    "#     s_deri_2_1 = tf.reshape(seg_deri_2, [3, 3, 1, 1])\n",
    "\n",
    "#     seg_crf_sum=0\n",
    "#     for n in range(ch):\n",
    "#         seg_deri=tf.slice(seg_img,[0,0,0,n],[-1,-1,-1,1])\n",
    "#         for i in range(2):\n",
    "#             seg_crf_1=get_crf(img,seg_deri,dep_img,s_deri_1_1,i+1)\n",
    "#             seg_crf_2=get_crf(img,seg_deri,dep_img,s_deri_1_2,i+1)\n",
    "#             seg_crf=(seg_crf_1+seg_crf_2)/2.0\n",
    "#             seg_crf_sum+=seg_crf\n",
    "#     return seg_crf_sum/ch"
   ]
  },
  {
   "cell_type": "code",
   "execution_count": 20,
   "metadata": {},
   "outputs": [],
   "source": [
    "# def seg_deri(seg_img,dep_img,img,ch):\n",
    "#     s_deri_1 = tf.reshape(seg_deri_1, [3, 3, 1, 1])\n",
    "#     s_deri_2 = tf.reshape(seg_deri_2, [3, 3, 1, 1])\n",
    "#     s_deri_3 = tf.reshape(seg_deri_3, [3, 3, 1, 1])\n",
    "#     s_deri_4 = tf.reshape(seg_deri_4, [3, 3, 1, 1])\n",
    "\n",
    "#     seg_crf=0\n",
    "#     for n in range(ch):\n",
    "#         seg_deri=tf.slice(seg_img,[0,0,0,n],[-1,-1,-1,1])\n",
    "#         for i in range(2):\n",
    "#             seg_crf_1=get_crf(img,seg_deri,dep_img,s_deri_1,i+1)\n",
    "#             seg_crf_2=get_crf(img,seg_deri,dep_img,s_deri_2,i+1)\n",
    "#             seg_crf_3=get_crf(img,seg_deri,dep_img,s_deri_3,i+1)\n",
    "#             seg_crf_4=get_crf(img,seg_deri,dep_img,s_deri_4,i+1)\n",
    "#             seg_crf+=(seg_crf_1+seg_crf_2+seg_crf_3+seg_crf_4)/4.0\n",
    "#     return seg_crf/ch"
   ]
  },
  {
   "cell_type": "code",
   "execution_count": 21,
   "metadata": {},
   "outputs": [],
   "source": [
    "img_size=224\n",
    "train_num=10000\n",
    "test_num=3000"
   ]
  },
  {
   "cell_type": "code",
   "execution_count": 22,
   "metadata": {},
   "outputs": [],
   "source": [
    "# for i in range(5285):\n",
    "#     cv2.imwrite('img_data/train_image/img-'+str(i+1+5285).zfill(6)+'.jpg',img_resize(cv2.imread('data/train_images/img-'+str(i+1).zfill(6)+'.jpg'),img_size))\n",
    "# for i in range(5285):\n",
    "#     cv2.imwrite('img_data/train_label/img-'+str(i+1+5285).zfill(6)+'.png',img_resize(cv2.imread('data/train_labels/img13labels-'+str(i+1).zfill(6)+'.png',0),img_size))\n",
    "# for i in range(5285):\n",
    "#     cv2.imwrite('img_data/train_depth/img-'+str(i+1+5285).zfill(6)+'.png',dep_resize(cv2.imread('data/train_depth/'+str(i+1)+'.png',0),img_size)) \n",
    "    \n",
    "# for i in range(5050):\n",
    "#     cv2.imwrite('img_data/test_image/img-'+str(i+1+5050).zfill(6)+'.jpg',img_resize(cv2.imread('data/test_images/img-'+str(i+1).zfill(6)+'.jpg'),img_size))\n",
    "# for i in range(5050):\n",
    "#     cv2.imwrite('img_data/test_label/img-'+str(i+1+5050).zfill(6)+'.png',img_resize(cv2.imread('data/test_labels/img13labels-'+str(i+1).zfill(6)+'.png',0),img_size))\n",
    "# for i in range(5050):\n",
    "#     cv2.imwrite('img_data/test_depth/img-'+str(i+1+5050).zfill(6)+'.png',dep_resize(cv2.imread('data/test_depth/'+str(i+1)+'.png',0),img_size))"
   ]
  },
  {
   "cell_type": "code",
   "execution_count": 23,
   "metadata": {},
   "outputs": [],
   "source": [
    "train_image=[im_resize(cv2.imread('E:/image/img_data/train_image/img-'+str(i+1).zfill(6)+'.jpg'),img_size) for i in range(train_num)]#5285"
   ]
  },
  {
   "cell_type": "code",
   "execution_count": 24,
   "metadata": {},
   "outputs": [],
   "source": [
    "train_label=[im_resize(cv2.imread('E:/image/img_data/train_label/img-'+str(i+1).zfill(6)+'.png',0),img_size) for i in range(train_num)]#5285"
   ]
  },
  {
   "cell_type": "code",
   "execution_count": 25,
   "metadata": {},
   "outputs": [],
   "source": [
    "train_depth=[depth_resize(cv2.imread('E:/image/img_data/train_depth/img-'+str(i+1).zfill(6)+'.png',0),img_size) for i in range(train_num)]#5285"
   ]
  },
  {
   "cell_type": "code",
   "execution_count": 26,
   "metadata": {},
   "outputs": [],
   "source": [
    "test_image=[im_resize(cv2.imread('E:/image/img_data/test_image/img-'+str(i+1).zfill(6)+'.jpg'),img_size) for i in range(test_num)]#5050"
   ]
  },
  {
   "cell_type": "code",
   "execution_count": 27,
   "metadata": {},
   "outputs": [],
   "source": [
    "test_label=[im_resize(cv2.imread('E:/image/img_data/test_label/img-'+str(i+1).zfill(6)+'.png',0),img_size) for i in range(test_num)]"
   ]
  },
  {
   "cell_type": "code",
   "execution_count": 28,
   "metadata": {},
   "outputs": [],
   "source": [
    "test_depth=[depth_resize(cv2.imread('E:/image/img_data/test_depth/img-'+str(i+1).zfill(6)+'.png',0),img_size) for i in range(test_num)]#5285"
   ]
  },
  {
   "cell_type": "code",
   "execution_count": 29,
   "metadata": {},
   "outputs": [],
   "source": [
    "h=img_size\n",
    "w=img_size\n",
    "c=14"
   ]
  },
  {
   "cell_type": "code",
   "execution_count": 30,
   "metadata": {},
   "outputs": [
    {
     "name": "stdout",
     "output_type": "stream",
     "text": [
      "224 224 14\n"
     ]
    }
   ],
   "source": [
    "print(h,w,c)"
   ]
  },
  {
   "cell_type": "code",
   "execution_count": 31,
   "metadata": {},
   "outputs": [],
   "source": [
    "version='16'"
   ]
  },
  {
   "cell_type": "code",
   "execution_count": 32,
   "metadata": {},
   "outputs": [],
   "source": [
    "graph_x=depth_resize(cv2.imread('E:/image/img_data/train_depth/img-000001.png',0),img_size)[10,:]\n",
    "graph_y=depth_resize(cv2.imread('E:/image/img_data/train_depth/img-000001.png',0),img_size)[:,10]"
   ]
  },
  {
   "cell_type": "code",
   "execution_count": 33,
   "metadata": {},
   "outputs": [
    {
     "data": {
      "image/png": "[encoded data removed]",
      "text/plain": [
       "<matplotlib.figure.Figure at 0x1e3da0b3710>"
      ]
     },
     "metadata": {},
     "output_type": "display_data"
    }
   ],
   "source": [
    "plt.plot(graph_x,'r.')\n",
    "plt.plot(graph_y,'b.')\n",
    "plt.show()"
   ]
  },
  {
   "cell_type": "code",
   "execution_count": 34,
   "metadata": {},
   "outputs": [],
   "source": [
    "from scipy import ndimage\n",
    "k1 = np.array([[1,0,-1]])\n",
    "k2 = np.array([[-1,0,1]])\n",
    "graph_x_1=ndimage.convolve(np.reshape(depth_resize(cv2.imread('E:/image/img_data/train_depth/img-000001.png',0),img_size),(h,w)),k1, mode='constant', cval=0.0)[10,:]\n",
    "graph_y_1=ndimage.convolve(np.reshape(depth_resize(cv2.imread('E:/image/img_data/train_depth/img-000001.png',0),img_size),(h,w)),k2, mode='constant', cval=0.0)[10,:]"
   ]
  },
  {
   "cell_type": "code",
   "execution_count": 35,
   "metadata": {},
   "outputs": [
    {
     "data": {
      "image/png": "[encoded data removed]",
      "text/plain": [
       "<matplotlib.figure.Figure at 0x1e3da0bc518>"
      ]
     },
     "metadata": {},
     "output_type": "display_data"
    }
   ],
   "source": [
    "plt.plot(graph_x_1,'r.')\n",
    "plt.plot(graph_y_1,'b.')\n",
    "plt.show()"
   ]
  },
  {
   "cell_type": "code",
   "execution_count": 22,
   "metadata": {},
   "outputs": [],
   "source": [
    "for i in range(train_num):\n",
    "    plt.imsave('seg_out'+version+'/output_img-'+str(i+1).zfill(6)+'_st.jpg',im_resize(cv2.imread('E:/image/img_data/train_label/img-'+str(i+1).zfill(6)+'.png',0),img_size))\n",
    "for i in range(test_num):\n",
    "    plt.imsave('seg_out'+version+'/test_image/test_img-'+str(i+1).zfill(6)+'_st.png',im_resize(cv2.imread('E:/image/img_data/test_label/img-'+str(i+1).zfill(6)+'.png',0),img_size))\n",
    "# for i in range(train_num):\n",
    "#     plt.imsave('seg_out'+version+'/output_img-'+str(i+1).zfill(6)+'_dt.jpg',dep_resize(cv2.imread('E:/image/img_data/train_depth/img-'+str(i+1).zfill(6)+'.png',0),img_size))\n",
    "# for i in range(test_num):\n",
    "#     plt.imsave('seg_out'+version+'/test_image/test_img-'+str(i+1).zfill(6)+'_dt.png',dep_resize(cv2.imread('E:/image/img_data/test_depth/img-'+str(i+1).zfill(6)+'.png',0),img_size))"
   ]
  },
  {
   "cell_type": "code",
   "execution_count": 36,
   "metadata": {
    "collapsed": true
   },
   "outputs": [],
   "source": [
    "training_epochs=400\n",
    "tf.reset_default_graph()\n",
    "x=tf.placeholder(tf.float32,[None,h,w,3]) \n",
    "s=tf.placeholder(tf.float32, [None,h,w])\n",
    "d=tf.placeholder(tf.float32, [None,h,w,1])\n",
    "keep_prob=tf.placeholder(tf.float32)\n",
    "train_type=tf.placeholder(tf.bool)\n",
    "global_step = tf.placeholder(tf.float32)\n",
    "seg_deri_1=tf.constant([[0,0,0],[0,1,-1],[0,0,0]], tf.float32)\n",
    "seg_deri_2=tf.constant([[0,-1,0],[0,1,0],[0,0,0]], tf.float32)\n",
    "seg_deri_3=tf.constant([[0,0,-1],[0,1,0],[0,0,0]], tf.float32)\n",
    "seg_deri_4=tf.constant([[0,0,0],[0,1,0],[0,0,-1]], tf.float32)"
   ]
  },
  {
   "cell_type": "code",
   "execution_count": 37,
   "metadata": {},
   "outputs": [],
   "source": [
    "l_d_1_3=make_norm_conv(d,3,1,1,2,'d_1',train_type)"
   ]
  },
  {
   "cell_type": "code",
   "execution_count": 38,
   "metadata": {},
   "outputs": [],
   "source": [
    "l_c_1_3=make_norm_conv(x,3,3,16,2,'c_1',train_type)\n",
    "l_c_d_1=seg_dep(l_c_1_3,l_d_1_3,32,2)\n",
    "l_c_1=tf.nn.max_pool(l_c_d_1, ksize=[1,2,2,1], strides=[1,2,2,1], padding='SAME')\n",
    "l_c_1=tf.layers.dropout(l_c_1,rate=keep_prob)\n",
    "\n",
    "l_c_2_3=make_norm_conv(l_c_1,3,64,64,2,'c_2',train_type)\n",
    "l_c_2=tf.nn.max_pool(l_c_2_3, ksize=[1,2,2,1], strides=[1,2,2,1], padding='SAME')\n",
    "l_c_2=tf.layers.dropout(l_c_2,rate=keep_prob)\n",
    "\n",
    "l_c_3_3=make_norm_conv(l_c_2,3,128,128,3,'c_3',train_type)\n",
    "l_c_3=tf.layers.dropout(l_c_3_3,rate=keep_prob)\n",
    "\n",
    "l_c_4_3=make_norm_conv(l_c_3,3,256,256,3,'c_4',train_type)\n",
    "l_c_4=tf.layers.dropout(l_c_4_3,rate=keep_prob)"
   ]
  },
  {
   "cell_type": "code",
   "execution_count": 39,
   "metadata": {},
   "outputs": [
    {
     "name": "stdout",
     "output_type": "stream",
     "text": [
      "Tensor(\"dropout/Identity:0\", shape=(?, 112, 112, 64), dtype=float32)\n",
      "Tensor(\"dropout_2/Identity:0\", shape=(?, 56, 56, 128), dtype=float32)\n",
      "Tensor(\"dropout_3/Identity:0\", shape=(?, 56, 56, 256), dtype=float32)\n",
      "Tensor(\"dropout_4/Identity:0\", shape=(?, 56, 56, 512), dtype=float32)\n"
     ]
    }
   ],
   "source": [
    "print(l_c_1)\n",
    "print(l_c_2)\n",
    "print(l_c_3)\n",
    "print(l_c_4)"
   ]
  },
  {
   "cell_type": "code",
   "execution_count": 40,
   "metadata": {},
   "outputs": [],
   "source": [
    "l_c_3_a=make_norm_conv(tf.concat([l_c_3_3,l_c_4_3],3),3,512+256,32,3,'c_3_a', train_type)\n",
    "l_c_3_a=tf.layers.dropout(l_c_3_a,rate=keep_prob)\n",
    "\n",
    "l_c_2_a=make_norm_conv(l_c_2_3,3,128,32,3,'c_2_a', train_type)\n",
    "l_c_2_a=tf.layers.dropout(l_c_2_a,rate=keep_prob)\n",
    "\n",
    "l_c_1_a=make_norm_conv(l_c_1_3,5,32,32,3,'c_1_a', train_type)\n",
    "l_c_1_a=tf.layers.dropout(l_c_1_a,rate=keep_prob)"
   ]
  },
  {
   "cell_type": "code",
   "execution_count": 41,
   "metadata": {},
   "outputs": [],
   "source": [
    "l_seg_4_s=tf.concat([l_c_4,l_c_3_a],3)\n",
    "l_seg_3=make_norm_conv(l_seg_4_s,3,512+64,256,2,'seg_3',train_type)\n",
    "l_seg_3=tf.layers.dropout(l_seg_3,rate=keep_prob)\n",
    "\n",
    "l_seg_3_s=tf.image.resize_images(l_seg_3,[math.ceil(h/2),math.ceil(h/2)],method=tf.image.ResizeMethod.BILINEAR)\n",
    "l_seg_3_s=tf.concat([l_seg_3_s,l_c_2_a],3)\n",
    "l_seg_2=make_norm_conv(l_seg_3_s,3,512+64,128,2,'seg_2',train_type)\n",
    "\n",
    "\n",
    "l_seg_2_s=tf.image.resize_images(l_seg_2,[math.ceil(h),math.ceil(h)],method=tf.image.ResizeMethod.BILINEAR)\n",
    "l_seg_2_s=tf.concat([l_seg_2_s,l_c_1_a],3)\n",
    "l_seg_1=make_norm_conv(l_seg_2_s,3,256+64,128,3,'seg_1',train_type)\n",
    "\n",
    "l_seg_1_s=seg_dep(l_seg_1,l_d_1_3,128,2)"
   ]
  },
  {
   "cell_type": "code",
   "execution_count": 43,
   "metadata": {},
   "outputs": [],
   "source": [
    "l_seg_0=make_norm_conv(l_seg_1_s,1,512,64,1,'seg_0',train_type)"
   ]
  },
  {
   "cell_type": "code",
   "execution_count": 44,
   "metadata": {},
   "outputs": [],
   "source": [
    "w_seg,b_seg=make_wei(\"seg\",1,128,c)"
   ]
  },
  {
   "cell_type": "code",
   "execution_count": 45,
   "metadata": {},
   "outputs": [],
   "source": [
    "l_seg=tf.nn.conv2d(l_seg_0,w_seg, strides=[1,1,1,1], padding= 'SAME')+b_seg"
   ]
  },
  {
   "cell_type": "code",
   "execution_count": 46,
   "metadata": {},
   "outputs": [],
   "source": [
    "s_one=tf.one_hot(tf.to_int64(s),c)"
   ]
  },
  {
   "cell_type": "code",
   "execution_count": 47,
   "metadata": {},
   "outputs": [],
   "source": [
    "l_seg_sig=tf.nn.sigmoid(l_seg)\n",
    "l_seg_avg_3=tf.nn.avg_pool(l_seg_sig, ksize=[1,3,3,1], strides=[1,1,1,1], padding='SAME')\n",
    "l_label_avg_3=tf.nn.avg_pool(s_one, ksize=[1,3,3,1], strides=[1,1,1,1], padding='SAME')\n",
    "\n",
    "l_label=(s_one*0.6)+(l_label_avg_3*0.4)\n",
    "l_seg_last=(l_seg_sig*0.6)+(l_seg_avg_3*0.4)"
   ]
  },
  {
   "cell_type": "code",
   "execution_count": 48,
   "metadata": {},
   "outputs": [],
   "source": [
    "s_image_1=tf.argmax(l_seg_last,3)"
   ]
  },
  {
   "cell_type": "code",
   "execution_count": 49,
   "metadata": {},
   "outputs": [],
   "source": [
    "seg_one_hot=tf.one_hot(s_image_1,c)\n",
    "\n",
    "flat_s=tf.reshape(s_one,[-1,c])\n",
    "flat_output=tf.reshape(seg_one_hot,[-1,c])\n",
    "\n",
    "inter,label,union=acc(flat_output,flat_s)"
   ]
  },
  {
   "cell_type": "code",
   "execution_count": 50,
   "metadata": {},
   "outputs": [],
   "source": [
    "# seg_conf=seg_one_hot-tf.multiply(seg_one_hot,s_one)\n",
    "# s_conf_img=tf.argmax(tf.multiply(seg_conf,tf.nn.softmax(l_seg)),3)"
   ]
  },
  {
   "cell_type": "code",
   "execution_count": 51,
   "metadata": {},
   "outputs": [],
   "source": [
    "seg_cost=tf.nn.softmax_cross_entropy_with_logits(logits=l_seg,labels=l_label)\n",
    "seg_cost=tf.reshape(seg_cost,[-1,h*w])\n",
    "seg_cost=tf.reduce_mean(seg_cost,1)\n",
    "seg_cost=tf.reduce_mean(seg_cost)"
   ]
  },
  {
   "cell_type": "code",
   "execution_count": 52,
   "metadata": {},
   "outputs": [],
   "source": [
    "l_fc_1=tf.nn.max_pool(l_c_4, ksize=[1,4,4,1], strides=[1,4,4,1], padding='SAME')"
   ]
  },
  {
   "cell_type": "code",
   "execution_count": 53,
   "metadata": {},
   "outputs": [],
   "source": [
    "l_fc_2=tf.reshape(l_fc_1,[-1,14*14*512])"
   ]
  },
  {
   "cell_type": "code",
   "execution_count": 54,
   "metadata": {},
   "outputs": [],
   "source": [
    "l_fc_3 = norm_fc(make_fc('fc_2',14*14*512,512,l_fc_2))"
   ]
  },
  {
   "cell_type": "code",
   "execution_count": 55,
   "metadata": {},
   "outputs": [],
   "source": [
    "l_fc_4 = norm_fc(make_fc('fc_3',512,256,l_fc_3))\n",
    "l_fc_5 = make_fc('fc_4',256,c,l_fc_4)"
   ]
  },
  {
   "cell_type": "code",
   "execution_count": 56,
   "metadata": {},
   "outputs": [],
   "source": [
    "s_pro=tf.reshape(seg_one_hot,[-1,h*w,c])\n",
    "s_pro=tf.div(tf.reduce_sum(s_pro,1),(h*w))\n",
    "\n",
    "seg_pro=tf.reshape(s_pro,[-1,c])+0.0001\n",
    "fc_soft=tf.nn.softmax(l_fc_5)+0.0001\n",
    "fc_cost=tf.reduce_mean(tf.reduce_sum(tf.multiply(fc_soft,tf.log(tf.div(fc_soft,seg_pro))),1))"
   ]
  },
  {
   "cell_type": "code",
   "execution_count": 57,
   "metadata": {},
   "outputs": [],
   "source": [
    "# fc_cost=tf.nn.sigmoid_cross_entropy_with_logits(logits=l_fc_2,labels=seg_pro)\n",
    "# fc_cost=tf.reduce_mean(fc_cost,1)\n",
    "# fc_cost=tf.reduce_mean(fc_cost)"
   ]
  },
  {
   "cell_type": "code",
   "execution_count": 58,
   "metadata": {},
   "outputs": [],
   "source": [
    "gray=tf.image.rgb_to_grayscale(x)\n",
    "crf_cost=seg_deri(l_seg_sig,d,gray,c,seg_deri_1,seg_deri_2,seg_deri_3,seg_deri_4)"
   ]
  },
  {
   "cell_type": "code",
   "execution_count": 59,
   "metadata": {},
   "outputs": [],
   "source": [
    "# seg_cost=seg_cost_1+seg_cost_2+(seg_cost_3*0.6)\n",
    "# cost=(seg_cost_1)+(seg_cost_2*0.8)+tf.square(s_x-fc_x)*0.1\n",
    "cost=(seg_cost*0.6)+(fc_cost*0.3)+(crf_cost*0.1)"
   ]
  },
  {
   "cell_type": "code",
   "execution_count": 60,
   "metadata": {},
   "outputs": [],
   "source": [
    "starter_learning_rate = 0.0001\n",
    "learning_rate = tf.train.exponential_decay(starter_learning_rate, global_step,10, 0.9, staircase=True)\n",
    "optimizer=tf.train.AdamOptimizer(learning_rate=learning_rate).minimize(cost)"
   ]
  },
  {
   "cell_type": "code",
   "execution_count": null,
   "metadata": {},
   "outputs": [
    {
     "name": "stdout",
     "output_type": "stream",
     "text": [
      "Learning start\n",
      "epoch :  0\n",
      "cost :  10.68500 seg_2_cost :  1.86622\n",
      "\n",
      "\n",
      "mean_iou_acc :  0.08121\n",
      "mean_mean_acc :  0.13925\n",
      "6186.878496646881\n",
      "\n",
      "\n",
      "\\\\\\\\\\\\\\\\\\\\\\\\\\\\\\\\\\\\\\ test_network \\\\\\\\\\\\\\\\\\\\\\\\\\\\\\\\\\\\\\\n",
      "cost :  10.76217 seg_2_cost :  2.02239\n",
      "mean_iou_acc :  0.08739\n",
      "mean_mean_acc :  0.17308\n",
      "738.8503932952881\n",
      "\n",
      "\n",
      "train_iou\n",
      "[ 0.259  0.021  0.     0.     0.083  0.341  0.022  0.     0.     0.001\n",
      "  0.061  0.     0.346  0.001]\n",
      "train_mean\n",
      "[ 0.562  0.022  0.     0.     0.099  0.512  0.023  0.     0.     0.001\n",
      "  0.066  0.     0.662  0.001]\n",
      "test_iou\n",
      "[ 0.106  0.     0.     0.     0.295  0.119  0.     0.     0.     0.     0.395\n",
      "  0.     0.307  0.   ]\n",
      "test_mean\n",
      "[ 0.127  0.     0.     0.     0.591  0.71   0.     0.     0.     0.     0.634\n",
      "  0.     0.361  0.   ]\n",
      "\n",
      "\n",
      "\n",
      "\n"
     ]
    }
   ],
   "source": [
    "sess=tf.Session()\n",
    "sess.run(tf.global_variables_initializer())\n",
    "saver=tf.train.Saver()\n",
    "# saver.restore(sess,\"seg_out\"+version+\"/seg_model.ckpt\")\n",
    "print(\"Learning start\")\n",
    "\n",
    "for epoch in range(training_epochs):\n",
    "    a=0\n",
    "    batch_size=2\n",
    "    total_batch = math.ceil(train_num/batch_size)\n",
    "    start=time.time()\n",
    "    avg_t_cost=0\n",
    "    avg_s_cost=0\n",
    "\n",
    "    \n",
    "    avg_inter=np.zeros((c))\n",
    "    avg_gt=np.zeros((c))\n",
    "    avg_union=np.zeros((c))\n",
    "\n",
    "    \n",
    "\n",
    "    for i in range(total_batch):\n",
    "        if a+batch_size<train_num:\n",
    "            batch_xs=train_image[a:a+batch_size]\n",
    "            batch_ys=train_label[a:a+batch_size]\n",
    "            batch_ds=train_depth[a:a+batch_size]\n",
    "\n",
    "            feed_dict={x:batch_xs, s:batch_ys, d:batch_ds, keep_prob:0.8, train_type:True, global_step:epoch}\n",
    "            rate,s_img_1,s_img_2,t_c,s_c,_=sess.run([learning_rate,s_image_1,seg_one_hot,cost,seg_cost,optimizer], feed_dict=feed_dict)\n",
    "            in_1,gt_1,un_1=sess.run([inter,label,union], feed_dict=feed_dict)\n",
    "            for j in range(batch_size):\n",
    "                plt.imsave('seg_out'+version+'/output_img-'+str(a+j+1).zfill(6)+'.png',s_img_1[j])\n",
    "                for q in range(c):\n",
    "                    plt.imsave('seg_out'+version+'/conf_map/class_img_'+str(a+j+1)+'_'+str(q).zfill(2)+'.png',s_img_2[j,:,:,q])\n",
    "                \n",
    "            a=a+batch_size\n",
    "            avg_s_cost+=s_c\n",
    "            avg_t_cost+=t_c\n",
    "            \n",
    "            avg_inter+=in_1\n",
    "            avg_gt+=gt_1\n",
    "            avg_union+=un_1\n",
    "\n",
    "\n",
    "    print(\"epoch : \", epoch)\n",
    "    print(\"cost : \", '{:.5f}'.format(avg_t_cost/total_batch),\"seg_2_cost : \", '{:.5f}'.format(avg_s_cost/total_batch))\n",
    "    print(\"\\n\")\n",
    "\n",
    "    s_iou,s_mean,m_iou,m_mean=iou_mean(avg_inter,avg_union,avg_gt,c)\n",
    "\n",
    "    \n",
    "    saver.save(sess, \"seg_out\"+version+\"/seg_model.ckpt\")\n",
    "    end=time.time()\n",
    "    print(end-start)\n",
    "    print(\"\\n\")\n",
    "    t_start=time.time()\n",
    "    if epoch%2==0:\n",
    "        test_a=0\n",
    "        test_batch_size=2\n",
    "        test_total_batch = math.ceil(test_num/test_batch_size)\n",
    "        \n",
    "        test_avg_t_cost=0\n",
    "        test_avg_s_cost=0\n",
    "\n",
    "        \n",
    "        test_avg_inter=np.zeros((c))\n",
    "        test_avg_gt=np.zeros((c))\n",
    "        test_avg_union=np.zeros((c))\n",
    "\n",
    "\n",
    "\n",
    "\n",
    "        for i in range(test_total_batch):\n",
    "            if test_a+test_batch_size<test_num:\n",
    "                test_batch_xs=test_image[test_a:test_a+test_batch_size]\n",
    "                test_batch_ys=test_label[test_a:test_a+test_batch_size]\n",
    "                test_batch_ds=test_depth[test_a:test_a+test_batch_size]\n",
    "                \n",
    "                \n",
    "                test_feed_dict={x:test_batch_xs, s:test_batch_ys, d:test_batch_ds, keep_prob:1.0,train_type:False,global_step:epoch}\n",
    "                t_s_img_1,t_s_c,t_t_c=sess.run([s_image_1, seg_cost,cost], feed_dict=test_feed_dict)\n",
    "                t_in_1,t_gt_1,t_un_1=sess.run([inter,label,union], feed_dict=feed_dict)\n",
    "        \n",
    "                for k in range(test_batch_size):\n",
    "                    plt.imsave('seg_out'+version+'/test_image/test_img-'+str(test_a+k+1).zfill(6)+'.png',t_s_img_1[k])\n",
    "\n",
    "\n",
    "                test_a=test_a+test_batch_size\n",
    "\n",
    "                test_avg_s_cost+=t_s_c\n",
    "\n",
    "                test_avg_t_cost+=t_t_c\n",
    "\n",
    "\n",
    "\n",
    "                test_avg_inter+=t_in_1\n",
    "                test_avg_gt+=t_gt_1\n",
    "                test_avg_union+=t_un_1\n",
    "\n",
    "            \n",
    "        print(\"\\\\\\\\\\\\\\\\\\\\\\\\\\\\\\\\\\\\\\\\\\\\\\\\\\\\\\\\\\\\\\\\\\\\\\\\\\\\ test_network \\\\\\\\\\\\\\\\\\\\\\\\\\\\\\\\\\\\\\\\\\\\\\\\\\\\\\\\\\\\\\\\\\\\\\\\\\\\\")\n",
    "        print(\"cost : \",'{:.5f}'.format(test_avg_t_cost/test_total_batch), \"seg_2_cost : \",'{:.5f}'.format(test_avg_s_cost/test_total_batch))\n",
    "        test_s_iou,test_s_mean,test_m_iou,test_m_mean=iou_mean(test_avg_inter,test_avg_union,test_avg_gt,c)\n",
    "\n",
    "        t_end=time.time()\n",
    "        print(t_end-t_start)\n",
    "\n",
    "        print(\"\\n\")\n",
    "        \n",
    "        if epoch%6==0:\n",
    "            print(\"train_iou\")\n",
    "            print(np.round(s_iou,3))\n",
    "            print(\"train_mean\")\n",
    "            print(np.round(s_mean,3))\n",
    "            print(\"test_iou\")\n",
    "            print(np.round(test_s_iou,3))\n",
    "            print(\"test_mean\")\n",
    "            print(np.round(test_s_mean,3))\n",
    "            print(\"\\n\")\n",
    "            feed_dict={x:batch_xs, s:batch_ys, d:batch_ds, keep_prob:1.0, train_type:True, global_step:epoch}\n",
    "            e_i_1,e_i_2,e_i_3=sess.run([l_c_1_a,l_c_2_a,l_c_3_a], feed_dict=feed_dict)\n",
    "            \n",
    "            print(\"\\n\")\n",
    "            for q in range(32):\n",
    "                plt.imsave('seg_out'+version+'/edge_map/edge_map_1_'+str(q).zfill(2)+'.png',e_i_1[0,:,:,q])\n",
    "                plt.imsave('seg_out'+version+'/edge_map/edge_map_2_'+str(q).zfill(2)+'.png',e_i_2[0,:,:,q])\n",
    "                plt.imsave('seg_out'+version+'/edge_map/edge_map_3_'+str(q).zfill(2)+'.png',e_i_3[0,:,:,q])\n",
    "                "
   ]
  },
  {
   "cell_type": "code",
   "execution_count": 63,
   "metadata": {},
   "outputs": [],
   "source": [
    "batch_xs=train_image[0:2]\n",
    "batch_ys=train_label[0:2]\n",
    "batch_ds=train_depth[0:2]\n",
    "\n",
    "feed_dict={x:batch_xs, s:batch_ys, d:batch_ds, keep_prob:1.0, train_type:True, global_step:epoch}\n",
    "s_p,g_p=sess.run([fc_soft,seg_pro], feed_dict=feed_dict)"
   ]
  },
  {
   "cell_type": "code",
   "execution_count": 64,
   "metadata": {},
   "outputs": [
    {
     "data": {
      "image/png": "[encoded data removed]",
      "text/plain": [
       "<matplotlib.figure.Figure at 0x184ec264278>"
      ]
     },
     "metadata": {},
     "output_type": "display_data"
    }
   ],
   "source": [
    "plt.plot(np.round(s_p[0],3),'r')\n",
    "plt.plot(np.round(g_p[0],3),'b')\n",
    "legend(['ground','estimation'],loc='best')\n",
    "plt.show()"
   ]
  },
  {
   "cell_type": "code",
   "execution_count": 66,
   "metadata": {},
   "outputs": [
    {
     "data": {
      "image/png": "[encoded data removed]",
      "text/plain": [
       "<matplotlib.figure.Figure at 0x184da7eaeb8>"
      ]
     },
     "metadata": {},
     "output_type": "display_data"
    }
   ],
   "source": [
    "plt.plot(np.round(g_p[0],3),'b')\n",
    "plt.plot(np.round(g_p[1],3),'r')\n",
    "plt.show()"
   ]
  },
  {
   "cell_type": "code",
   "execution_count": null,
   "metadata": {},
   "outputs": [],
   "source": []
  }
 ],
 "metadata": {
  "anaconda-cloud": {},
  "kernelspec": {
   "display_name": "Python 3",
   "language": "python",
   "name": "python3"
  },
  "language_info": {
   "codemirror_mode": {
    "name": "ipython",
    "version": 3
   },
   "file_extension": ".py",
   "mimetype": "text/x-python",
   "name": "python",
   "nbconvert_exporter": "python",
   "pygments_lexer": "ipython3",
   "version": "3.5.4"
  }
 },
 "nbformat": 4,
 "nbformat_minor": 2
}
